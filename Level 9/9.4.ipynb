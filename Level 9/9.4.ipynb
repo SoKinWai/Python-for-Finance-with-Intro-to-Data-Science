{
 "cells": [
  {
   "cell_type": "markdown",
   "metadata": {},
   "source": [
    "Student name: Jianwei Su\n",
    "\n",
    "Date: 06/10/2022\n",
    "\n",
    "9.4"
   ]
  },
  {
   "cell_type": "markdown",
   "metadata": {},
   "source": [
    "# This exercise uses the derived data created in 8.2 question 6 part d,e. You should do the following:"
   ]
  },
  {
   "cell_type": "code",
   "execution_count": 1,
   "metadata": {},
   "outputs": [
    {
     "data": {
      "text/html": [
       "<div>\n",
       "<style scoped>\n",
       "    .dataframe tbody tr th:only-of-type {\n",
       "        vertical-align: middle;\n",
       "    }\n",
       "\n",
       "    .dataframe tbody tr th {\n",
       "        vertical-align: top;\n",
       "    }\n",
       "\n",
       "    .dataframe thead th {\n",
       "        text-align: right;\n",
       "    }\n",
       "</style>\n",
       "<table border=\"1\" class=\"dataframe\">\n",
       "  <thead>\n",
       "    <tr style=\"text-align: right;\">\n",
       "      <th></th>\n",
       "      <th>Date</th>\n",
       "      <th>Ticker</th>\n",
       "      <th>Close</th>\n",
       "      <th>Dividends</th>\n",
       "      <th>High</th>\n",
       "      <th>Low</th>\n",
       "      <th>Open</th>\n",
       "      <th>Stock Splits</th>\n",
       "      <th>Volume</th>\n",
       "      <th>Daily return</th>\n",
       "      <th>1-week (5-day) moving average daily return</th>\n",
       "      <th>Rolling cumulative sum of volume</th>\n",
       "    </tr>\n",
       "  </thead>\n",
       "  <tbody>\n",
       "    <tr>\n",
       "      <th>0</th>\n",
       "      <td>2020-06-10</td>\n",
       "      <td>A</td>\n",
       "      <td>88.694260</td>\n",
       "      <td>0.0</td>\n",
       "      <td>89.454698</td>\n",
       "      <td>88.348609</td>\n",
       "      <td>89.197926</td>\n",
       "      <td>0.0</td>\n",
       "      <td>1410300.0</td>\n",
       "      <td>NaN</td>\n",
       "      <td>NaN</td>\n",
       "      <td>1410300.0</td>\n",
       "    </tr>\n",
       "    <tr>\n",
       "      <th>1</th>\n",
       "      <td>2020-06-10</td>\n",
       "      <td>AAL</td>\n",
       "      <td>17.020000</td>\n",
       "      <td>0.0</td>\n",
       "      <td>18.160000</td>\n",
       "      <td>15.920000</td>\n",
       "      <td>17.690001</td>\n",
       "      <td>0.0</td>\n",
       "      <td>163952500.0</td>\n",
       "      <td>-0.808105</td>\n",
       "      <td>NaN</td>\n",
       "      <td>165362800.0</td>\n",
       "    </tr>\n",
       "    <tr>\n",
       "      <th>2</th>\n",
       "      <td>2020-06-10</td>\n",
       "      <td>AAP</td>\n",
       "      <td>136.555191</td>\n",
       "      <td>0.0</td>\n",
       "      <td>140.387844</td>\n",
       "      <td>136.545454</td>\n",
       "      <td>140.387844</td>\n",
       "      <td>0.0</td>\n",
       "      <td>864900.0</td>\n",
       "      <td>7.023219</td>\n",
       "      <td>NaN</td>\n",
       "      <td>166227700.0</td>\n",
       "    </tr>\n",
       "    <tr>\n",
       "      <th>3</th>\n",
       "      <td>2020-06-10</td>\n",
       "      <td>AAPL</td>\n",
       "      <td>87.121864</td>\n",
       "      <td>0.0</td>\n",
       "      <td>87.598411</td>\n",
       "      <td>85.455181</td>\n",
       "      <td>85.902098</td>\n",
       "      <td>0.0</td>\n",
       "      <td>166651600.0</td>\n",
       "      <td>-0.362003</td>\n",
       "      <td>NaN</td>\n",
       "      <td>332879300.0</td>\n",
       "    </tr>\n",
       "    <tr>\n",
       "      <th>4</th>\n",
       "      <td>2020-06-10</td>\n",
       "      <td>ABBV</td>\n",
       "      <td>88.445374</td>\n",
       "      <td>0.0</td>\n",
       "      <td>90.681606</td>\n",
       "      <td>88.354100</td>\n",
       "      <td>88.527518</td>\n",
       "      <td>0.0</td>\n",
       "      <td>11138300.0</td>\n",
       "      <td>0.015191</td>\n",
       "      <td>NaN</td>\n",
       "      <td>344017600.0</td>\n",
       "    </tr>\n",
       "    <tr>\n",
       "      <th>5</th>\n",
       "      <td>2020-06-10</td>\n",
       "      <td>ABC</td>\n",
       "      <td>94.110657</td>\n",
       "      <td>0.0</td>\n",
       "      <td>97.634351</td>\n",
       "      <td>94.091246</td>\n",
       "      <td>97.440204</td>\n",
       "      <td>0.0</td>\n",
       "      <td>905000.0</td>\n",
       "      <td>0.064054</td>\n",
       "      <td>1.186471</td>\n",
       "      <td>344922600.0</td>\n",
       "    </tr>\n",
       "    <tr>\n",
       "      <th>6</th>\n",
       "      <td>2020-06-10</td>\n",
       "      <td>ABMD</td>\n",
       "      <td>250.850006</td>\n",
       "      <td>0.0</td>\n",
       "      <td>252.979996</td>\n",
       "      <td>244.589996</td>\n",
       "      <td>246.410004</td>\n",
       "      <td>0.0</td>\n",
       "      <td>409000.0</td>\n",
       "      <td>1.665479</td>\n",
       "      <td>1.681188</td>\n",
       "      <td>345331600.0</td>\n",
       "    </tr>\n",
       "    <tr>\n",
       "      <th>7</th>\n",
       "      <td>2020-06-10</td>\n",
       "      <td>ABT</td>\n",
       "      <td>89.432686</td>\n",
       "      <td>0.0</td>\n",
       "      <td>90.005222</td>\n",
       "      <td>87.957664</td>\n",
       "      <td>88.161448</td>\n",
       "      <td>0.0</td>\n",
       "      <td>5829100.0</td>\n",
       "      <td>-0.643481</td>\n",
       "      <td>0.147848</td>\n",
       "      <td>351160700.0</td>\n",
       "    </tr>\n",
       "    <tr>\n",
       "      <th>8</th>\n",
       "      <td>2020-06-10</td>\n",
       "      <td>ACN</td>\n",
       "      <td>204.174911</td>\n",
       "      <td>0.0</td>\n",
       "      <td>205.539791</td>\n",
       "      <td>200.733489</td>\n",
       "      <td>202.059364</td>\n",
       "      <td>0.0</td>\n",
       "      <td>2077200.0</td>\n",
       "      <td>1.283001</td>\n",
       "      <td>0.476849</td>\n",
       "      <td>353237900.0</td>\n",
       "    </tr>\n",
       "    <tr>\n",
       "      <th>9</th>\n",
       "      <td>2020-06-10</td>\n",
       "      <td>ADBE</td>\n",
       "      <td>406.820007</td>\n",
       "      <td>0.0</td>\n",
       "      <td>409.980011</td>\n",
       "      <td>399.489990</td>\n",
       "      <td>399.589996</td>\n",
       "      <td>0.0</td>\n",
       "      <td>3611600.0</td>\n",
       "      <td>0.992507</td>\n",
       "      <td>0.672312</td>\n",
       "      <td>356849500.0</td>\n",
       "    </tr>\n",
       "  </tbody>\n",
       "</table>\n",
       "</div>"
      ],
      "text/plain": [
       "         Date Ticker       Close  Dividends        High         Low  \\\n",
       "0  2020-06-10      A   88.694260        0.0   89.454698   88.348609   \n",
       "1  2020-06-10    AAL   17.020000        0.0   18.160000   15.920000   \n",
       "2  2020-06-10    AAP  136.555191        0.0  140.387844  136.545454   \n",
       "3  2020-06-10   AAPL   87.121864        0.0   87.598411   85.455181   \n",
       "4  2020-06-10   ABBV   88.445374        0.0   90.681606   88.354100   \n",
       "5  2020-06-10    ABC   94.110657        0.0   97.634351   94.091246   \n",
       "6  2020-06-10   ABMD  250.850006        0.0  252.979996  244.589996   \n",
       "7  2020-06-10    ABT   89.432686        0.0   90.005222   87.957664   \n",
       "8  2020-06-10    ACN  204.174911        0.0  205.539791  200.733489   \n",
       "9  2020-06-10   ADBE  406.820007        0.0  409.980011  399.489990   \n",
       "\n",
       "         Open  Stock Splits       Volume  Daily return  \\\n",
       "0   89.197926           0.0    1410300.0           NaN   \n",
       "1   17.690001           0.0  163952500.0     -0.808105   \n",
       "2  140.387844           0.0     864900.0      7.023219   \n",
       "3   85.902098           0.0  166651600.0     -0.362003   \n",
       "4   88.527518           0.0   11138300.0      0.015191   \n",
       "5   97.440204           0.0     905000.0      0.064054   \n",
       "6  246.410004           0.0     409000.0      1.665479   \n",
       "7   88.161448           0.0    5829100.0     -0.643481   \n",
       "8  202.059364           0.0    2077200.0      1.283001   \n",
       "9  399.589996           0.0    3611600.0      0.992507   \n",
       "\n",
       "   1-week (5-day) moving average daily return  \\\n",
       "0                                         NaN   \n",
       "1                                         NaN   \n",
       "2                                         NaN   \n",
       "3                                         NaN   \n",
       "4                                         NaN   \n",
       "5                                    1.186471   \n",
       "6                                    1.681188   \n",
       "7                                    0.147848   \n",
       "8                                    0.476849   \n",
       "9                                    0.672312   \n",
       "\n",
       "   Rolling cumulative sum of volume  \n",
       "0                         1410300.0  \n",
       "1                       165362800.0  \n",
       "2                       166227700.0  \n",
       "3                       332879300.0  \n",
       "4                       344017600.0  \n",
       "5                       344922600.0  \n",
       "6                       345331600.0  \n",
       "7                       351160700.0  \n",
       "8                       353237900.0  \n",
       "9                       356849500.0  "
      ]
     },
     "execution_count": 1,
     "metadata": {},
     "output_type": "execute_result"
    }
   ],
   "source": [
    "import numpy as np\n",
    "import pandas as pd\n",
    "import matplotlib.pyplot as plt\n",
    "\n",
    "\n",
    "SP500=pd.read_csv('SP500.csv')\n",
    "SP500.reset_index()\n",
    "\n",
    "del SP500['Unnamed: 0']\n",
    "del SP500['Adj Close']\n",
    "\n",
    "SP500.head(10)"
   ]
  },
  {
   "cell_type": "markdown",
   "metadata": {},
   "source": [
    "# a. Plot the distribution of daily volume using a histogram. Pick the ideal number of bins.\n"
   ]
  },
  {
   "cell_type": "code",
   "execution_count": 2,
   "metadata": {},
   "outputs": [
    {
     "data": {
      "text/plain": [
       "<AxesSubplot:>"
      ]
     },
     "execution_count": 2,
     "metadata": {},
     "output_type": "execute_result"
    },
    {
     "data": {
      "image/png": "[encoded data removed]",
      "text/plain": [
       "<Figure size 432x288 with 1 Axes>"
      ]
     },
     "metadata": {
      "needs_background": "light"
     },
     "output_type": "display_data"
    }
   ],
   "source": [
    "# Plotting without using matplotlib.pyplot\n",
    "SP500['Volume'].hist(bins=10)"
   ]
  },
  {
   "cell_type": "code",
   "execution_count": 3,
   "metadata": {},
   "outputs": [
    {
     "data": {
      "image/png": "[encoded data removed]",
      "text/plain": [
       "<Figure size 936x360 with 1 Axes>"
      ]
     },
     "metadata": {
      "needs_background": "light"
     },
     "output_type": "display_data"
    }
   ],
   "source": [
    "plt.figure(figsize=(13,5))\n",
    "x = plt.hist(SP500['Volume'], bins=10)\n",
    "plt.show()"
   ]
  },
  {
   "cell_type": "code",
   "execution_count": 4,
   "metadata": {},
   "outputs": [
    {
     "data": {
      "image/png": "[encoded data removed]",
      "text/plain": [
       "<Figure size 936x360 with 1 Axes>"
      ]
     },
     "metadata": {
      "needs_background": "light"
     },
     "output_type": "display_data"
    }
   ],
   "source": [
    "plt.figure(figsize=(13,5))\n",
    "x = plt.hist(SP500['Volume'], bins=20)\n",
    "plt.show()"
   ]
  },
  {
   "cell_type": "code",
   "execution_count": 5,
   "metadata": {},
   "outputs": [
    {
     "data": {
      "image/png": "[encoded data removed]",
      "text/plain": [
       "<Figure size 936x360 with 1 Axes>"
      ]
     },
     "metadata": {
      "needs_background": "light"
     },
     "output_type": "display_data"
    }
   ],
   "source": [
    "plt.figure(figsize=(13,5))\n",
    "x = plt.hist(SP500['Volume'], bins=30)\n",
    "plt.show()"
   ]
  },
  {
   "cell_type": "code",
   "execution_count": 6,
   "metadata": {},
   "outputs": [
    {
     "data": {
      "image/png": "[encoded data removed]",
      "text/plain": [
       "<Figure size 936x360 with 1 Axes>"
      ]
     },
     "metadata": {
      "needs_background": "light"
     },
     "output_type": "display_data"
    }
   ],
   "source": [
    "plt.figure(figsize=(13,5))\n",
    "x = plt.hist(SP500['Volume'], bins=40)\n",
    "plt.show()\n",
    "\n",
    "# I think this one is the best."
   ]
  },
  {
   "cell_type": "markdown",
   "metadata": {},
   "source": [
    "# b. Plot the distribution of daily volume for each of the two years, using a histogram. You should have two overlaying histograms on the same plot"
   ]
  },
  {
   "cell_type": "code",
   "execution_count": 7,
   "metadata": {},
   "outputs": [
    {
     "data": {
      "image/png": "[encoded data removed]",
      "text/plain": [
       "<Figure size 1080x540 with 1 Axes>"
      ]
     },
     "metadata": {
      "needs_background": "light"
     },
     "output_type": "display_data"
    }
   ],
   "source": [
    "x_a = SP500[SP500['Date']<'2021-06-10']\n",
    "\n",
    "x_b = SP500[SP500['Date']>='2021-06-10']\n",
    "\n",
    "plt.figure(figsize=(15,7.5))\n",
    "x_c = plt.hist(x_a['Volume'], bins=30, color = 'Red')\n",
    "x_d = plt.hist(x_b['Volume'], bins=30, color = 'Cyan', alpha = 0.7)\n",
    "\n",
    "plt.xlabel('Volume',fontsize='20')\n",
    "plt.ylabel('# of Days',fontsize='20')\n",
    "plt.grid()\n",
    "plt.legend(['Year 1', 'Year 2'])\n",
    "plt.title('Distribution of daily volume for each of the two years',fontweight =\"bold\",fontsize='20')\n",
    "\n",
    "plt.show()"
   ]
  },
  {
   "cell_type": "code",
   "execution_count": null,
   "metadata": {},
   "outputs": [],
   "source": []
  }
 ],
 "metadata": {
  "kernelspec": {
   "display_name": "Python 3",
   "language": "python",
   "name": "python3"
  },
  "language_info": {
   "codemirror_mode": {
    "name": "ipython",
    "version": 3
   },
   "file_extension": ".py",
   "mimetype": "text/x-python",
   "name": "python",
   "nbconvert_exporter": "python",
   "pygments_lexer": "ipython3",
   "version": "3.8.5"
  }
 },
 "nbformat": 4,
 "nbformat_minor": 4
}
