{
 "cells": [
  {
   "cell_type": "markdown",
   "metadata": {},
   "source": [
    "Student name: Jianwei Su\n",
    "\n",
    "Date: 06/04/2022\n",
    "\n",
    "8.2.2"
   ]
  },
  {
   "cell_type": "markdown",
   "metadata": {},
   "source": [
    "# Use the sportsreference library to download some of your favorite sports-team data and display it."
   ]
  },
  {
   "cell_type": "code",
   "execution_count": 1,
   "metadata": {},
   "outputs": [
    {
     "name": "stdout",
     "output_type": "stream",
     "text": [
      "The requested page returned a valid response, but no data could be found. Has the season begun, and is the data available on www.sports-reference.com?\n"
     ]
    }
   ],
   "source": [
    "from sportsreference.nba.teams import Teams\n",
    "\n",
    "teams=Teams()\n",
    "for team in teams:\n",
    "    print(team.name, team.abbreviation)"
   ]
  },
  {
   "cell_type": "code",
   "execution_count": 2,
   "metadata": {},
   "outputs": [
    {
     "data": {
      "text/plain": [
       "['PARSING_SCHEME',\n",
       " 'Roster',\n",
       " 'SEASON_PAGE_URL',\n",
       " 'Schedule',\n",
       " 'Team',\n",
       " 'Teams',\n",
       " '__builtins__',\n",
       " '__cached__',\n",
       " '__doc__',\n",
       " '__file__',\n",
       " '__loader__',\n",
       " '__name__',\n",
       " '__package__',\n",
       " '__spec__',\n",
       " 'float_property_decorator',\n",
       " 'int_property_decorator',\n",
       " 'pd',\n",
       " 'pq',\n",
       " 're',\n",
       " 'utils']"
      ]
     },
     "execution_count": 2,
     "metadata": {},
     "output_type": "execute_result"
    }
   ],
   "source": [
    "import sportsreference.nba.teams\n",
    "dir(sportsreference.nba.teams)"
   ]
  },
  {
   "cell_type": "code",
   "execution_count": 3,
   "metadata": {},
   "outputs": [
    {
     "data": {
      "text/plain": [
       "['__class__',\n",
       " '__delattr__',\n",
       " '__dict__',\n",
       " '__dir__',\n",
       " '__doc__',\n",
       " '__eq__',\n",
       " '__format__',\n",
       " '__ge__',\n",
       " '__getattribute__',\n",
       " '__gt__',\n",
       " '__hash__',\n",
       " '__init__',\n",
       " '__init_subclass__',\n",
       " '__le__',\n",
       " '__lt__',\n",
       " '__module__',\n",
       " '__ne__',\n",
       " '__new__',\n",
       " '__reduce__',\n",
       " '__reduce_ex__',\n",
       " '__repr__',\n",
       " '__setattr__',\n",
       " '__sizeof__',\n",
       " '__str__',\n",
       " '__subclasshook__',\n",
       " '__weakref__',\n",
       " '_create_url',\n",
       " '_find_players',\n",
       " '_get_id',\n",
       " '_get_name',\n",
       " '_pull_team_page',\n",
       " 'players']"
      ]
     },
     "execution_count": 3,
     "metadata": {},
     "output_type": "execute_result"
    }
   ],
   "source": [
    "from sportsreference.nba.teams import Roster\n",
    "dir(Roster)"
   ]
  },
  {
   "cell_type": "code",
   "execution_count": 4,
   "metadata": {},
   "outputs": [
    {
     "name": "stdout",
     "output_type": "stream",
     "text": [
      "Grant Williams\n",
      "Jayson Tatum\n",
      "Marcus Smart\n",
      "Payton Pritchard\n",
      "Al Horford\n",
      "Jaylen Brown\n",
      "Robert Williams\n",
      "Aaron Nesmith\n",
      "Derrick White\n",
      "Sam Hauser\n",
      "Daniel Theis\n",
      "Luke Kornet\n",
      "Brodric Thomas\n",
      "Malik Fitts\n",
      "Nik Stauskas\n",
      "Matt Ryan\n",
      "Juwan Morgan\n"
     ]
    }
   ],
   "source": [
    "roster=Roster('BOS')\n",
    "for player in roster.players:\n",
    "    print(player.name)\n",
    "    "
   ]
  }
 ],
 "metadata": {
  "kernelspec": {
   "display_name": "Python 3",
   "language": "python",
   "name": "python3"
  },
  "language_info": {
   "codemirror_mode": {
    "name": "ipython",
    "version": 3
   },
   "file_extension": ".py",
   "mimetype": "text/x-python",
   "name": "python",
   "nbconvert_exporter": "python",
   "pygments_lexer": "ipython3",
   "version": "3.8.5"
  }
 },
 "nbformat": 4,
 "nbformat_minor": 4
}
