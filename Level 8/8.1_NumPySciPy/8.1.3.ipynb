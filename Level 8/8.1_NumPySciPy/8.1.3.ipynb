{
 "cells": [
  {
   "cell_type": "markdown",
   "metadata": {},
   "source": [
    "Student name: Jianwei Su\n",
    "\n",
    "Date: 06/01/2022\n",
    "\n",
    "8.1.3\n"
   ]
  },
  {
   "cell_type": "markdown",
   "metadata": {},
   "source": [
    "# Create two ndarrays and calculate the inner, outer, dot products, and the correlation matrix."
   ]
  },
  {
   "cell_type": "code",
   "execution_count": 1,
   "metadata": {},
   "outputs": [],
   "source": [
    "import numpy as np"
   ]
  },
  {
   "cell_type": "code",
   "execution_count": 2,
   "metadata": {},
   "outputs": [],
   "source": [
    "#Create two ndarrays\n",
    "mtr1=np.array([[1,2,3],[4,5,6],[7,8,9]])\n",
    "mtr2=np.array([[5,4,3],[2,5,6],[-5,8,11]])"
   ]
  },
  {
   "cell_type": "code",
   "execution_count": 3,
   "metadata": {},
   "outputs": [
    {
     "data": {
      "text/plain": [
       "array([[1, 2, 3],\n",
       "       [4, 5, 6],\n",
       "       [7, 8, 9]])"
      ]
     },
     "execution_count": 3,
     "metadata": {},
     "output_type": "execute_result"
    }
   ],
   "source": [
    "mtr1"
   ]
  },
  {
   "cell_type": "code",
   "execution_count": 4,
   "metadata": {},
   "outputs": [
    {
     "data": {
      "text/plain": [
       "array([[ 5,  4,  3],\n",
       "       [ 2,  5,  6],\n",
       "       [-5,  8, 11]])"
      ]
     },
     "execution_count": 4,
     "metadata": {},
     "output_type": "execute_result"
    }
   ],
   "source": [
    "mtr2"
   ]
  },
  {
   "cell_type": "code",
   "execution_count": 5,
   "metadata": {},
   "outputs": [
    {
     "data": {
      "text/plain": [
       "array([[ -6,  38,  48],\n",
       "       [  0,  89, 108],\n",
       "       [  6, 140, 168]])"
      ]
     },
     "execution_count": 5,
     "metadata": {},
     "output_type": "execute_result"
    }
   ],
   "source": [
    "#dot product\n",
    "mtr1.dot(mtr2)"
   ]
  },
  {
   "cell_type": "code",
   "execution_count": 10,
   "metadata": {},
   "outputs": [
    {
     "data": {
      "text/plain": [
       "array([[ -6,  38,  48],\n",
       "       [  0,  89, 108],\n",
       "       [  6, 140, 168]])"
      ]
     },
     "execution_count": 10,
     "metadata": {},
     "output_type": "execute_result"
    }
   ],
   "source": [
    "#Another dot product method\n",
    "np.dot(mtr1, mtr2)"
   ]
  },
  {
   "cell_type": "code",
   "execution_count": 6,
   "metadata": {},
   "outputs": [
    {
     "data": {
      "text/plain": [
       "array([[ 42,  54,  66],\n",
       "       [ 64,  77,  90],\n",
       "       [104, 118, 132]])"
      ]
     },
     "execution_count": 6,
     "metadata": {},
     "output_type": "execute_result"
    }
   ],
   "source": [
    "#dot product\n",
    "mtr2.dot(mtr1)"
   ]
  },
  {
   "cell_type": "code",
   "execution_count": 7,
   "metadata": {},
   "outputs": [
    {
     "data": {
      "text/plain": [
       "array([[  5,   4,   3,   2,   5,   6,  -5,   8,  11],\n",
       "       [ 10,   8,   6,   4,  10,  12, -10,  16,  22],\n",
       "       [ 15,  12,   9,   6,  15,  18, -15,  24,  33],\n",
       "       [ 20,  16,  12,   8,  20,  24, -20,  32,  44],\n",
       "       [ 25,  20,  15,  10,  25,  30, -25,  40,  55],\n",
       "       [ 30,  24,  18,  12,  30,  36, -30,  48,  66],\n",
       "       [ 35,  28,  21,  14,  35,  42, -35,  56,  77],\n",
       "       [ 40,  32,  24,  16,  40,  48, -40,  64,  88],\n",
       "       [ 45,  36,  27,  18,  45,  54, -45,  72,  99]])"
      ]
     },
     "execution_count": 7,
     "metadata": {},
     "output_type": "execute_result"
    }
   ],
   "source": [
    "#outer\n",
    "np.outer(mtr1,mtr2)"
   ]
  },
  {
   "cell_type": "code",
   "execution_count": 8,
   "metadata": {},
   "outputs": [
    {
     "data": {
      "text/plain": [
       "array([[  5,  10,  15,  20,  25,  30,  35,  40,  45],\n",
       "       [  4,   8,  12,  16,  20,  24,  28,  32,  36],\n",
       "       [  3,   6,   9,  12,  15,  18,  21,  24,  27],\n",
       "       [  2,   4,   6,   8,  10,  12,  14,  16,  18],\n",
       "       [  5,  10,  15,  20,  25,  30,  35,  40,  45],\n",
       "       [  6,  12,  18,  24,  30,  36,  42,  48,  54],\n",
       "       [ -5, -10, -15, -20, -25, -30, -35, -40, -45],\n",
       "       [  8,  16,  24,  32,  40,  48,  56,  64,  72],\n",
       "       [ 11,  22,  33,  44,  55,  66,  77,  88,  99]])"
      ]
     },
     "execution_count": 8,
     "metadata": {},
     "output_type": "execute_result"
    }
   ],
   "source": [
    "#outer\n",
    "np.outer(mtr2,mtr1)"
   ]
  },
  {
   "cell_type": "code",
   "execution_count": 12,
   "metadata": {},
   "outputs": [
    {
     "data": {
      "text/plain": [
       "array([[ 22,  30,  44],\n",
       "       [ 58,  69,  86],\n",
       "       [ 94, 108, 128]])"
      ]
     },
     "execution_count": 12,
     "metadata": {},
     "output_type": "execute_result"
    }
   ],
   "source": [
    "#inner\n",
    "np.inner(mtr1,mtr2)"
   ]
  },
  {
   "cell_type": "code",
   "execution_count": 13,
   "metadata": {},
   "outputs": [
    {
     "data": {
      "text/plain": [
       "array([[ 22,  58,  94],\n",
       "       [ 30,  69, 108],\n",
       "       [ 44,  86, 128]])"
      ]
     },
     "execution_count": 13,
     "metadata": {},
     "output_type": "execute_result"
    }
   ],
   "source": [
    "#inner \n",
    "np.inner(mtr2, mtr1)"
   ]
  },
  {
   "cell_type": "code",
   "execution_count": 14,
   "metadata": {},
   "outputs": [
    {
     "data": {
      "text/plain": [
       "array([[ 1.        ,  1.        ,  1.        , -1.        ,  0.96076892,\n",
       "         0.94063416],\n",
       "       [ 1.        ,  1.        ,  1.        , -1.        ,  0.96076892,\n",
       "         0.94063416],\n",
       "       [ 1.        ,  1.        ,  1.        , -1.        ,  0.96076892,\n",
       "         0.94063416],\n",
       "       [-1.        , -1.        , -1.        ,  1.        , -0.96076892,\n",
       "        -0.94063416],\n",
       "       [ 0.96076892,  0.96076892,  0.96076892, -0.96076892,  1.        ,\n",
       "         0.99787083],\n",
       "       [ 0.94063416,  0.94063416,  0.94063416, -0.94063416,  0.99787083,\n",
       "         1.        ]])"
      ]
     },
     "execution_count": 14,
     "metadata": {},
     "output_type": "execute_result"
    }
   ],
   "source": [
    "#correlation matrix\n",
    "np.corrcoef(mtr1, mtr2)"
   ]
  },
  {
   "cell_type": "code",
   "execution_count": 15,
   "metadata": {},
   "outputs": [
    {
     "data": {
      "text/plain": [
       "array([[ 1.        , -0.96076892, -0.94063416, -1.        , -1.        ,\n",
       "        -1.        ],\n",
       "       [-0.96076892,  1.        ,  0.99787083,  0.96076892,  0.96076892,\n",
       "         0.96076892],\n",
       "       [-0.94063416,  0.99787083,  1.        ,  0.94063416,  0.94063416,\n",
       "         0.94063416],\n",
       "       [-1.        ,  0.96076892,  0.94063416,  1.        ,  1.        ,\n",
       "         1.        ],\n",
       "       [-1.        ,  0.96076892,  0.94063416,  1.        ,  1.        ,\n",
       "         1.        ],\n",
       "       [-1.        ,  0.96076892,  0.94063416,  1.        ,  1.        ,\n",
       "         1.        ]])"
      ]
     },
     "execution_count": 15,
     "metadata": {},
     "output_type": "execute_result"
    }
   ],
   "source": [
    "#correlation matrix\n",
    "np.corrcoef(mtr2, mtr1)"
   ]
  },
  {
   "cell_type": "code",
   "execution_count": null,
   "metadata": {},
   "outputs": [],
   "source": []
  }
 ],
 "metadata": {
  "kernelspec": {
   "display_name": "Python 3",
   "language": "python",
   "name": "python3"
  },
  "language_info": {
   "codemirror_mode": {
    "name": "ipython",
    "version": 3
   },
   "file_extension": ".py",
   "mimetype": "text/x-python",
   "name": "python",
   "nbconvert_exporter": "python",
   "pygments_lexer": "ipython3",
   "version": "3.8.5"
  }
 },
 "nbformat": 4,
 "nbformat_minor": 4
}
