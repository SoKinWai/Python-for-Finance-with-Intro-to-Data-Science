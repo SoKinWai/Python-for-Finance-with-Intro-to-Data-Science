{
 "cells": [
  {
   "cell_type": "markdown",
   "metadata": {},
   "source": [
    "Student name: Jianwei Su\n",
    "\n",
    "Date: 06/01/2022\n",
    "\n",
    "8.1.2"
   ]
  },
  {
   "cell_type": "markdown",
   "metadata": {},
   "source": [
    "# Provide examples of the many NumPy math functions and compare against their built-in Python counterparts.\n"
   ]
  },
  {
   "cell_type": "code",
   "execution_count": 1,
   "metadata": {},
   "outputs": [],
   "source": [
    "import numpy as np\n",
    "from utils.timer import Timer\n",
    "import math \n",
    "\n",
    "\n",
    "# Set Seed:\n",
    "np.random.seed(1)"
   ]
  },
  {
   "cell_type": "code",
   "execution_count": 2,
   "metadata": {},
   "outputs": [
    {
     "data": {
      "text/plain": [
       "1000000"
      ]
     },
     "execution_count": 2,
     "metadata": {},
     "output_type": "execute_result"
    }
   ],
   "source": [
    "#Create an ndarray containing 1,000,000 random numbers.\n",
    "arr1=np.random.randint(1,1000,1000000)\n",
    "len(arr1)"
   ]
  },
  {
   "cell_type": "markdown",
   "metadata": {},
   "source": [
    "# Compare sin() functions"
   ]
  },
  {
   "cell_type": "code",
   "execution_count": 3,
   "metadata": {},
   "outputs": [
    {
     "name": "stdout",
     "output_type": "stream",
     "text": [
      "Timer is going to start.\n",
      "The length of the sin array: 1000000\n",
      "Timer is going to stop.\n",
      "The timer is displaying in seconds:\n",
      "Numpy’s sin : 0.013003826141357422 seconds\n"
     ]
    }
   ],
   "source": [
    "with Timer('Numpy’s sin'):\n",
    "    print('The length of the sin array:',len(np.sin(arr1)))"
   ]
  },
  {
   "cell_type": "code",
   "execution_count": 4,
   "metadata": {},
   "outputs": [
    {
     "name": "stdout",
     "output_type": "stream",
     "text": [
      "Timer is going to start.\n",
      "The length of the sin list: 1000000\n",
      "Timer is going to stop.\n",
      "The timer is displaying in seconds:\n",
      "math’s sin : 0.2730734348297119 seconds\n"
     ]
    }
   ],
   "source": [
    "with Timer('math’s sin'):\n",
    "    print('The length of the sin list:', len([math.sin(x) for x in arr1]))"
   ]
  },
  {
   "cell_type": "markdown",
   "metadata": {},
   "source": [
    "# Compare cos() functions"
   ]
  },
  {
   "cell_type": "code",
   "execution_count": 5,
   "metadata": {},
   "outputs": [
    {
     "name": "stdout",
     "output_type": "stream",
     "text": [
      "Timer is going to start.\n",
      "The length of the cos array: 1000000\n",
      "Timer is going to stop.\n",
      "The timer is displaying in seconds:\n",
      "Numpy’s cos : 0.01400303840637207 seconds\n"
     ]
    }
   ],
   "source": [
    "with Timer('Numpy’s cos'):\n",
    "    print('The length of the cos array:',len(np.cos(arr1)))"
   ]
  },
  {
   "cell_type": "code",
   "execution_count": 6,
   "metadata": {},
   "outputs": [
    {
     "name": "stdout",
     "output_type": "stream",
     "text": [
      "Timer is going to start.\n",
      "The length of the cos list: 1000000\n",
      "Timer is going to stop.\n",
      "The timer is displaying in seconds:\n",
      "math’s cos : 0.26505088806152344 seconds\n"
     ]
    }
   ],
   "source": [
    "with Timer('math’s cos'):\n",
    "    print('The length of the cos list:', len([math.cos(x) for x in arr1]))"
   ]
  },
  {
   "cell_type": "markdown",
   "metadata": {},
   "source": [
    "# Compare sqrt functions"
   ]
  },
  {
   "cell_type": "code",
   "execution_count": 7,
   "metadata": {},
   "outputs": [
    {
     "name": "stdout",
     "output_type": "stream",
     "text": [
      "Timer is going to start.\n",
      "The length of the sqrt array: 1000000\n",
      "Timer is going to stop.\n",
      "The timer is displaying in seconds:\n",
      "Numpy’s sqrt : 0.003002166748046875 seconds\n"
     ]
    }
   ],
   "source": [
    "with Timer('Numpy’s sqrt'):\n",
    "    print('The length of the sqrt array:',len(np.sqrt(arr1)))"
   ]
  },
  {
   "cell_type": "code",
   "execution_count": 8,
   "metadata": {},
   "outputs": [
    {
     "name": "stdout",
     "output_type": "stream",
     "text": [
      "Timer is going to start.\n",
      "The length of the math’s sqrt: 1000000\n",
      "Timer is going to stop.\n",
      "The timer is displaying in seconds:\n",
      "math’s sqrt : 0.25706005096435547 seconds\n"
     ]
    }
   ],
   "source": [
    "with Timer('math’s sqrt'):\n",
    "    print('The length of the math’s sqrt:',len([math.sqrt(x) for x in arr1]))"
   ]
  },
  {
   "cell_type": "markdown",
   "metadata": {},
   "source": [
    "# Compare tan functions"
   ]
  },
  {
   "cell_type": "code",
   "execution_count": 9,
   "metadata": {},
   "outputs": [
    {
     "name": "stdout",
     "output_type": "stream",
     "text": [
      "Timer is going to start.\n",
      "The length of the tan array: 1000000\n",
      "Timer is going to stop.\n",
      "The timer is displaying in seconds:\n",
      "Numpy’s tan : 0.017002344131469727 seconds\n"
     ]
    }
   ],
   "source": [
    "with Timer('Numpy’s tan'):\n",
    "    print('The length of the tan array:',len(np.tan(arr1)))"
   ]
  },
  {
   "cell_type": "code",
   "execution_count": 10,
   "metadata": {},
   "outputs": [
    {
     "name": "stdout",
     "output_type": "stream",
     "text": [
      "Timer is going to start.\n",
      "The length of the math’s tan: 1000000\n",
      "Timer is going to stop.\n",
      "The timer is displaying in seconds:\n",
      "math’s tan : 0.27206921577453613 seconds\n"
     ]
    }
   ],
   "source": [
    "with Timer('math’s tan'):\n",
    "    print('The length of the math’s tan:',len([math.tan(x) for x in arr1]))"
   ]
  },
  {
   "cell_type": "markdown",
   "metadata": {},
   "source": [
    "# Compare log functions"
   ]
  },
  {
   "cell_type": "code",
   "execution_count": 11,
   "metadata": {},
   "outputs": [
    {
     "name": "stdout",
     "output_type": "stream",
     "text": [
      "Timer is going to start.\n",
      "The length of the log array: 1000000\n",
      "Timer is going to stop.\n",
      "The timer is displaying in seconds:\n",
      "Numpy’s log : 0.00899648666381836 seconds\n"
     ]
    }
   ],
   "source": [
    "with Timer('Numpy’s log'):\n",
    "    print('The length of the log array:',len(np.log(arr1)))"
   ]
  },
  {
   "cell_type": "code",
   "execution_count": 12,
   "metadata": {},
   "outputs": [
    {
     "name": "stdout",
     "output_type": "stream",
     "text": [
      "Timer is going to start.\n",
      "The length of the math’s log: 1000000\n",
      "Timer is going to stop.\n",
      "The timer is displaying in seconds:\n",
      "math’s log : 0.3090677261352539 seconds\n"
     ]
    }
   ],
   "source": [
    "with Timer('math’s log'):\n",
    "    print('The length of the math’s log:',len([math.log(x) for x in arr1]))"
   ]
  },
  {
   "cell_type": "markdown",
   "metadata": {},
   "source": [
    "It it obvious numpy's functions are much faster than math's functions. "
   ]
  }
 ],
 "metadata": {
  "kernelspec": {
   "display_name": "Python 3",
   "language": "python",
   "name": "python3"
  },
  "language_info": {
   "codemirror_mode": {
    "name": "ipython",
    "version": 3
   },
   "file_extension": ".py",
   "mimetype": "text/x-python",
   "name": "python",
   "nbconvert_exporter": "python",
   "pygments_lexer": "ipython3",
   "version": "3.8.5"
  }
 },
 "nbformat": 4,
 "nbformat_minor": 4
}
