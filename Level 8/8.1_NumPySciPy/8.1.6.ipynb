{
 "cells": [
  {
   "cell_type": "markdown",
   "metadata": {},
   "source": [
    "Student name: Jianwei Su\n",
    "\n",
    "Date: 06/01/2022\n",
    "\n",
    "8.1.6"
   ]
  },
  {
   "cell_type": "markdown",
   "metadata": {},
   "source": [
    "In this exercise, we will create a matrix of random numbers that have a predefined correlation. \n",
    "In practice, this is really useful when running Monte Carlo simulations over data that has a \n",
    "known correlation. For example, if we know a set of underlying Stock prices are correlated and \n",
    "we wish to simulate how a portfolio of their Option prices react: We can price each Option using \n",
    "a Monte Carlo simulation individually; however, doing so individually will not give us insight into \n",
    "the portfolio value. Instead, we can create an array of random, correlated Stock prices. There \n",
    "are two ways to do this (you should attempt both), with the following steps:\n",
    "a. Pick 10 stocks from any stock exchange and get their last 10 closing prices – put these \n",
    "into an ndarray, and calculate the covariance matrix.\n",
    "b. Use numpy.random’s multivariate_normal to create a correlated array of random \n",
    "numbers, based on the above covariance matrix. \n",
    "c. Use np.random’s standard_normal function to create an array of uncorrelated random \n",
    "numbers. Use the following formula to create a correlated array of random numbers:\n",
    "L = linalg.cholesky(covarianceMatrix) \n",
    "corr = DotProduct(L, uncorr)\n",
    "Note that in practice, for options pricing Monte Carlo simulations, we’d use a lognormal \n",
    "distribution, but for simplicity here, we use a normal distribution."
   ]
  },
  {
   "cell_type": "code",
   "execution_count": 1,
   "metadata": {},
   "outputs": [],
   "source": [
    "import numpy as np\n",
    "import yfinance as yf"
   ]
  },
  {
   "cell_type": "markdown",
   "metadata": {},
   "source": [
    "# Pick 10 stocks from any stock exchange and get their last 10 closing prices – put these into an ndarray, and calculate the covariance matrix"
   ]
  },
  {
   "cell_type": "code",
   "execution_count": 2,
   "metadata": {},
   "outputs": [
    {
     "data": {
      "text/html": [
       "<div>\n",
       "<style scoped>\n",
       "    .dataframe tbody tr th:only-of-type {\n",
       "        vertical-align: middle;\n",
       "    }\n",
       "\n",
       "    .dataframe tbody tr th {\n",
       "        vertical-align: top;\n",
       "    }\n",
       "\n",
       "    .dataframe thead th {\n",
       "        text-align: right;\n",
       "    }\n",
       "</style>\n",
       "<table border=\"1\" class=\"dataframe\">\n",
       "  <thead>\n",
       "    <tr style=\"text-align: right;\">\n",
       "      <th></th>\n",
       "      <th>Open</th>\n",
       "      <th>High</th>\n",
       "      <th>Low</th>\n",
       "      <th>Close</th>\n",
       "      <th>Volume</th>\n",
       "      <th>Dividends</th>\n",
       "      <th>Stock Splits</th>\n",
       "    </tr>\n",
       "    <tr>\n",
       "      <th>Date</th>\n",
       "      <th></th>\n",
       "      <th></th>\n",
       "      <th></th>\n",
       "      <th></th>\n",
       "      <th></th>\n",
       "      <th></th>\n",
       "      <th></th>\n",
       "    </tr>\n",
       "  </thead>\n",
       "  <tbody>\n",
       "    <tr>\n",
       "      <th>2022-05-18</th>\n",
       "      <td>14.970000</td>\n",
       "      <td>17.820000</td>\n",
       "      <td>14.850</td>\n",
       "      <td>17.65</td>\n",
       "      <td>90002000</td>\n",
       "      <td>0</td>\n",
       "      <td>0.0</td>\n",
       "    </tr>\n",
       "    <tr>\n",
       "      <th>2022-05-19</th>\n",
       "      <td>18.129999</td>\n",
       "      <td>18.309999</td>\n",
       "      <td>15.880</td>\n",
       "      <td>15.98</td>\n",
       "      <td>90157500</td>\n",
       "      <td>0</td>\n",
       "      <td>0.0</td>\n",
       "    </tr>\n",
       "    <tr>\n",
       "      <th>2022-05-20</th>\n",
       "      <td>15.220000</td>\n",
       "      <td>17.840000</td>\n",
       "      <td>15.110</td>\n",
       "      <td>16.01</td>\n",
       "      <td>108761000</td>\n",
       "      <td>0</td>\n",
       "      <td>0.0</td>\n",
       "    </tr>\n",
       "    <tr>\n",
       "      <th>2022-05-23</th>\n",
       "      <td>15.610000</td>\n",
       "      <td>16.420000</td>\n",
       "      <td>15.300</td>\n",
       "      <td>15.74</td>\n",
       "      <td>59639700</td>\n",
       "      <td>0</td>\n",
       "      <td>0.0</td>\n",
       "    </tr>\n",
       "    <tr>\n",
       "      <th>2022-05-24</th>\n",
       "      <td>16.129999</td>\n",
       "      <td>16.900000</td>\n",
       "      <td>15.640</td>\n",
       "      <td>15.75</td>\n",
       "      <td>79037700</td>\n",
       "      <td>0</td>\n",
       "      <td>0.0</td>\n",
       "    </tr>\n",
       "    <tr>\n",
       "      <th>2022-05-25</th>\n",
       "      <td>16.209999</td>\n",
       "      <td>16.230000</td>\n",
       "      <td>15.040</td>\n",
       "      <td>15.28</td>\n",
       "      <td>49831900</td>\n",
       "      <td>0</td>\n",
       "      <td>0.0</td>\n",
       "    </tr>\n",
       "    <tr>\n",
       "      <th>2022-05-26</th>\n",
       "      <td>15.070000</td>\n",
       "      <td>15.160000</td>\n",
       "      <td>14.760</td>\n",
       "      <td>15.09</td>\n",
       "      <td>40465900</td>\n",
       "      <td>0</td>\n",
       "      <td>0.0</td>\n",
       "    </tr>\n",
       "    <tr>\n",
       "      <th>2022-05-27</th>\n",
       "      <td>14.530000</td>\n",
       "      <td>14.710000</td>\n",
       "      <td>14.150</td>\n",
       "      <td>14.21</td>\n",
       "      <td>37490100</td>\n",
       "      <td>0</td>\n",
       "      <td>0.0</td>\n",
       "    </tr>\n",
       "    <tr>\n",
       "      <th>2022-05-31</th>\n",
       "      <td>14.620000</td>\n",
       "      <td>15.100000</td>\n",
       "      <td>13.710</td>\n",
       "      <td>13.84</td>\n",
       "      <td>51793600</td>\n",
       "      <td>0</td>\n",
       "      <td>0.0</td>\n",
       "    </tr>\n",
       "    <tr>\n",
       "      <th>2022-06-01</th>\n",
       "      <td>13.570000</td>\n",
       "      <td>14.770000</td>\n",
       "      <td>13.365</td>\n",
       "      <td>13.69</td>\n",
       "      <td>60769717</td>\n",
       "      <td>0</td>\n",
       "      <td>0.0</td>\n",
       "    </tr>\n",
       "  </tbody>\n",
       "</table>\n",
       "</div>"
      ],
      "text/plain": [
       "                 Open       High     Low  Close     Volume  Dividends  \\\n",
       "Date                                                                    \n",
       "2022-05-18  14.970000  17.820000  14.850  17.65   90002000          0   \n",
       "2022-05-19  18.129999  18.309999  15.880  15.98   90157500          0   \n",
       "2022-05-20  15.220000  17.840000  15.110  16.01  108761000          0   \n",
       "2022-05-23  15.610000  16.420000  15.300  15.74   59639700          0   \n",
       "2022-05-24  16.129999  16.900000  15.640  15.75   79037700          0   \n",
       "2022-05-25  16.209999  16.230000  15.040  15.28   49831900          0   \n",
       "2022-05-26  15.070000  15.160000  14.760  15.09   40465900          0   \n",
       "2022-05-27  14.530000  14.710000  14.150  14.21   37490100          0   \n",
       "2022-05-31  14.620000  15.100000  13.710  13.84   51793600          0   \n",
       "2022-06-01  13.570000  14.770000  13.365  13.69   60769717          0   \n",
       "\n",
       "            Stock Splits  \n",
       "Date                      \n",
       "2022-05-18           0.0  \n",
       "2022-05-19           0.0  \n",
       "2022-05-20           0.0  \n",
       "2022-05-23           0.0  \n",
       "2022-05-24           0.0  \n",
       "2022-05-25           0.0  \n",
       "2022-05-26           0.0  \n",
       "2022-05-27           0.0  \n",
       "2022-05-31           0.0  \n",
       "2022-06-01           0.0  "
      ]
     },
     "execution_count": 2,
     "metadata": {},
     "output_type": "execute_result"
    }
   ],
   "source": [
    "#1.UVXY\n",
    "#I will use the first one to show more details. \n",
    "UVXY=yf.Ticker('UVXY')\n",
    "\n",
    "#It's to access the history data \n",
    "UVXY_data = UVXY.history(period=\"max\")\n",
    "\n",
    "#This is to show the last ten days' data\n",
    "UVXY_data.tail(10)"
   ]
  },
  {
   "cell_type": "code",
   "execution_count": 3,
   "metadata": {},
   "outputs": [
    {
     "data": {
      "text/plain": [
       "Date\n",
       "2022-05-18    17.65\n",
       "2022-05-19    15.98\n",
       "2022-05-20    16.01\n",
       "2022-05-23    15.74\n",
       "2022-05-24    15.75\n",
       "2022-05-25    15.28\n",
       "2022-05-26    15.09\n",
       "2022-05-27    14.21\n",
       "2022-05-31    13.84\n",
       "2022-06-01    13.69\n",
       "Name: Close, dtype: float64"
      ]
     },
     "execution_count": 3,
     "metadata": {},
     "output_type": "execute_result"
    }
   ],
   "source": [
    "#Get its last ten days' closing prices\n",
    "UVXY_data['Close'][-10:]"
   ]
  },
  {
   "cell_type": "code",
   "execution_count": 4,
   "metadata": {},
   "outputs": [
    {
     "data": {
      "text/plain": [
       "Date\n",
       "2022-05-18    17.65\n",
       "2022-05-19    15.98\n",
       "2022-05-20    16.01\n",
       "2022-05-23    15.74\n",
       "2022-05-24    15.75\n",
       "2022-05-25    15.28\n",
       "2022-05-26    15.09\n",
       "2022-05-27    14.21\n",
       "2022-05-31    13.84\n",
       "2022-06-01    13.69\n",
       "Name: Close, dtype: float64"
      ]
     },
     "execution_count": 4,
     "metadata": {},
     "output_type": "execute_result"
    }
   ],
   "source": [
    "#Another method to get its last ten days' closing prices\n",
    "UVXY_data.Close[-10:]"
   ]
  },
  {
   "cell_type": "code",
   "execution_count": 5,
   "metadata": {},
   "outputs": [],
   "source": [
    "# The 2nd stock to the 10th stock I picked\n",
    "\n",
    "# no.2\n",
    "IEFA=yf.Ticker('IEFA')\n",
    "IEFA_data = IEFA.history(period=\"max\")\n",
    "\n",
    "# no.3\n",
    "USHY=yf.Ticker('USHY')\n",
    "USHY_data = USHY.history(period=\"max\")\n",
    "\n",
    "# no.4\n",
    "MTUM=yf.Ticker('MTUM')\n",
    "MTUM_data = MTUM.history(period=\"max\")\n",
    "\n",
    "# no.5\n",
    "VIXY=yf.Ticker('VIXY')\n",
    "VIXY_data = VIXY.history(period=\"max\")\n",
    "\n",
    "# no.6\n",
    "ARKG=yf.Ticker('ARKG')\n",
    "ARKG_data = ARKG.history(period=\"max\")\n",
    "\n",
    "# no.7\n",
    "ITB=yf.Ticker('ITB')\n",
    "ITB_data = ITB.history(period=\"max\")\n",
    "\n",
    "# no.8\n",
    "USMV=yf.Ticker('USMV')\n",
    "USMV_data = USMV.history(period=\"max\")\n",
    "\n",
    "# no.9\n",
    "SVXY=yf.Ticker('SVXY')\n",
    "SVXY_data = SVXY.history(period=\"max\")\n",
    "\n",
    "# no.10\n",
    "INDA=yf.Ticker('INDA')\n",
    "INDA_data = INDA.history(period=\"max\")\n",
    "\n",
    "\n",
    "\n",
    "# Get 10 last close prices of 10 stocks\n",
    "last_close_Price = np.array([UVXY_data['Close'][-10:], \n",
    "                             IEFA_data['Close'][-10:], \n",
    "                             USHY_data['Close'][-10:], \n",
    "                             MTUM_data['Close'][-10:], \n",
    "                             VIXY_data['Close'][-10:], \n",
    "                             ARKG_data['Close'][-10:], \n",
    "                             ITB_data['Close'][-10:], \n",
    "                             USMV_data['Close'][-10:], \n",
    "                             SVXY_data['Close'][-10:], \n",
    "                             INDA_data['Close'][-10:]])"
   ]
  },
  {
   "cell_type": "code",
   "execution_count": 6,
   "metadata": {},
   "outputs": [
    {
     "data": {
      "text/plain": [
       "array([[ 1.42618206, -1.13788132, -0.7082918 , -4.3467152 ,  1.16493524,\n",
       "        -0.23031303, -1.95045976, -1.49994058, -1.42475051, -0.33545331],\n",
       "       [-1.13788132,  1.1903584 ,  0.67826917,  4.03810387, -0.93172357,\n",
       "         0.30311396,  1.70409312,  1.53741728,  1.1234054 ,  0.2952091 ],\n",
       "       [-0.7082918 ,  0.67826917,  0.46748502,  2.69796121, -0.58336272,\n",
       "         0.14376262,  1.24732551,  0.97022646,  0.71026487,  0.151105  ],\n",
       "       [-4.3467152 ,  4.03810387,  2.69796121, 17.78985993, -3.60601271,\n",
       "         1.21965682,  8.11920709,  5.8544479 ,  4.45986097,  1.10958758],\n",
       "       [ 1.16493524, -0.93172357, -0.58336272, -3.60601271,  0.95272848,\n",
       "        -0.19206205, -1.62062433, -1.23400287, -1.16584155, -0.2748044 ],\n",
       "       [-0.23031303,  0.30311396,  0.14376262,  1.21965682, -0.19206205,\n",
       "         0.70371183,  0.7339851 ,  0.29076492,  0.21457549,  0.10233253],\n",
       "       [-1.95045976,  1.70409312,  1.24732551,  8.11920709, -1.62062433,\n",
       "         0.7339851 ,  4.09094354,  2.51778896,  1.99990595,  0.47041505],\n",
       "       [-1.49994058,  1.53741728,  0.97022646,  5.8544479 , -1.23400287,\n",
       "         0.29076492,  2.51778896,  2.17497401,  1.51387784,  0.36441208],\n",
       "       [-1.42475051,  1.1234054 ,  0.71026487,  4.45986097, -1.16584155,\n",
       "         0.21457549,  1.99990595,  1.51387784,  1.43391457,  0.33790208],\n",
       "       [-0.33545331,  0.2952091 ,  0.151105  ,  1.10958758, -0.2748044 ,\n",
       "         0.10233253,  0.47041505,  0.36441208,  0.33790208,  0.10575658]])"
      ]
     },
     "execution_count": 6,
     "metadata": {},
     "output_type": "execute_result"
    }
   ],
   "source": [
    "cov_matrix=np.cov(last_close_Price)\n",
    "cov_matrix"
   ]
  },
  {
   "cell_type": "code",
   "execution_count": 7,
   "metadata": {},
   "outputs": [
    {
     "name": "stdout",
     "output_type": "stream",
     "text": [
      "The size of covariance matrix: 100\n"
     ]
    }
   ],
   "source": [
    "print('The size of covariance matrix:', cov_matrix.size)"
   ]
  },
  {
   "cell_type": "markdown",
   "metadata": {},
   "source": [
    "# Use numpy.random’s multivariate_normal to create a correlated array of random numbers, based on the above covariance matrix. \n"
   ]
  },
  {
   "cell_type": "code",
   "execution_count": 8,
   "metadata": {},
   "outputs": [
    {
     "data": {
      "text/plain": [
       "array([[ 7.09723723e-01, -1.46365305e+00, -8.90907729e-01,\n",
       "        -6.82275991e+00,  6.26739727e-01, -8.74251794e-01,\n",
       "        -3.00490747e+00, -2.21481899e+00, -7.60244413e-01,\n",
       "        -3.49151562e-01],\n",
       "       [ 1.34576465e+00, -4.62960611e-01, -4.84799470e-01,\n",
       "        -5.03259732e+00,  1.14068343e+00, -1.71046620e-01,\n",
       "        -2.86413919e+00, -9.01271185e-01, -1.50244679e+00,\n",
       "        -3.42680390e-01],\n",
       "       [-1.18355620e+00,  8.53384051e-01,  4.42965306e-01,\n",
       "         4.45528302e+00, -9.82965980e-01,  6.17259258e-01,\n",
       "         2.02443698e+00,  1.19084317e+00,  1.28536213e+00,\n",
       "         4.12274546e-01],\n",
       "       [ 2.73164792e+00, -1.89878754e+00, -1.35871952e+00,\n",
       "        -7.88236716e+00,  2.21380447e+00, -6.53640932e-01,\n",
       "        -3.56386978e+00, -2.85018188e+00, -2.74798013e+00,\n",
       "        -4.50019661e-01],\n",
       "       [ 1.50822847e+00, -1.69461798e+00, -7.58552113e-01,\n",
       "        -5.76545437e+00,  1.22746083e+00, -6.23300484e-01,\n",
       "        -2.54372689e+00, -2.14867022e+00, -1.57493090e+00,\n",
       "        -6.02047741e-01],\n",
       "       [ 7.21173243e-01, -3.35807383e-01, -3.93064986e-01,\n",
       "        -9.90320750e-01,  5.64092926e-01,  1.00620840e+00,\n",
       "        -1.07582504e+00, -5.42242915e-01, -6.93331498e-01,\n",
       "        -7.98984043e-02],\n",
       "       [-4.21795706e-01,  1.12837881e+00,  1.87325568e-01,\n",
       "        -3.85007192e-01, -3.05313256e-01,  5.71876790e-01,\n",
       "        -3.76260996e-01,  5.07320800e-01,  2.01050550e-01,\n",
       "         2.74151749e-01],\n",
       "       [-9.65700265e-02,  2.03324593e-01, -1.15757195e-01,\n",
       "        -1.78159701e+00, -4.31569074e-02,  3.45276992e-02,\n",
       "        -1.11334587e+00, -1.57222937e-01, -7.53622948e-03,\n",
       "         1.67543618e-02],\n",
       "       [-1.00892962e+00,  9.54032450e-01,  5.91835017e-01,\n",
       "         2.99875450e+00, -8.43736520e-01,  9.22405582e-01,\n",
       "         1.71610323e+00,  9.48063677e-01,  9.74393243e-01,\n",
       "         1.72719402e-01],\n",
       "       [ 1.27134740e+00, -1.74981367e+00, -8.84670625e-01,\n",
       "        -4.94632798e+00,  1.05642198e+00, -1.57246565e+00,\n",
       "        -2.62099759e+00, -1.76849723e+00, -1.16494197e+00,\n",
       "        -3.54495336e-01]])"
      ]
     },
     "execution_count": 8,
     "metadata": {},
     "output_type": "execute_result"
    }
   ],
   "source": [
    "Mean = np.array([0, 0, 0, 0, 0, 0, 0, 0, 0, 0])\n",
    "\n",
    "correlated_array = np.random.multivariate_normal(Mean, cov_matrix, size=10)\n",
    "correlated_array"
   ]
  },
  {
   "cell_type": "markdown",
   "metadata": {},
   "source": [
    "# Use np.random’s standard_normal function to create an array of uncorrelated random numbers. Use the following formula to create a correlated array of random numbers:\n",
    "# L = linalg.cholesky(covarianceMatrix) \n",
    "# corr = DotProduct(L, uncorr)"
   ]
  },
  {
   "cell_type": "code",
   "execution_count": 9,
   "metadata": {},
   "outputs": [
    {
     "data": {
      "text/plain": [
       "array([[ 1.19422865e+00,  0.00000000e+00,  0.00000000e+00,\n",
       "         0.00000000e+00,  0.00000000e+00,  0.00000000e+00,\n",
       "         0.00000000e+00,  0.00000000e+00,  0.00000000e+00,\n",
       "         0.00000000e+00],\n",
       "       [-9.52816969e-01,  5.31505618e-01,  0.00000000e+00,\n",
       "         0.00000000e+00,  0.00000000e+00,  0.00000000e+00,\n",
       "         0.00000000e+00,  0.00000000e+00,  0.00000000e+00,\n",
       "         0.00000000e+00],\n",
       "       [-5.93095634e-01,  2.12900082e-01,  2.65322712e-01,\n",
       "         0.00000000e+00,  0.00000000e+00,  0.00000000e+00,\n",
       "         0.00000000e+00,  0.00000000e+00,  0.00000000e+00,\n",
       "         0.00000000e+00],\n",
       "       [-3.63976799e+00,  1.07255906e+00,  1.17171573e+00,\n",
       "         1.42079141e+00,  0.00000000e+00,  0.00000000e+00,\n",
       "         0.00000000e+00,  0.00000000e+00,  0.00000000e+00,\n",
       "         0.00000000e+00],\n",
       "       [ 9.75470854e-01, -4.28667213e-03, -1.47088283e-02,\n",
       "        -2.37141370e-02,  1.96979635e-02,  0.00000000e+00,\n",
       "         0.00000000e+00,  0.00000000e+00,  0.00000000e+00,\n",
       "         0.00000000e+00],\n",
       "       [-1.92855056e-01,  2.24566563e-01, -6.94592298e-02,\n",
       "         2.52137455e-01,  1.00651841e-01,  7.33184792e-01,\n",
       "         0.00000000e+00,  0.00000000e+00,  0.00000000e+00,\n",
       "         0.00000000e+00],\n",
       "       [-1.63323813e+00,  2.78296427e-01,  8.26954366e-01,\n",
       "         6.38485293e-01,  5.32788336e-02,  3.37707143e-01,\n",
       "         3.70979917e-01,  0.00000000e+00,  0.00000000e+00,\n",
       "         0.00000000e+00],\n",
       "       [-1.25599113e+00,  6.40985938e-01,  3.34828664e-01,\n",
       "         1.42957169e-01,  1.13849764e-01, -1.63192730e-01,\n",
       "        -8.36871209e-02,  8.63317387e-02,  0.00000000e+00,\n",
       "         0.00000000e+00],\n",
       "       [-1.19302992e+00, -2.50867653e-02,  3.02462174e-02,\n",
       "         7.67008466e-02,  4.09256488e-03, -3.75388511e-02,\n",
       "        -8.46399229e-03,  3.62617598e-02,  1.88281645e-02,\n",
       "         0.00000000e+00],\n",
       "       [-2.80895384e-01,  5.18662677e-02, -1.00010889e-01,\n",
       "         1.04693936e-01,  2.20771863e-02,  1.29156312e-03,\n",
       "         3.08865391e-02, -3.28236190e-02,  2.60925543e-02,\n",
       "         3.04590184e-08]])"
      ]
     },
     "execution_count": 9,
     "metadata": {},
     "output_type": "execute_result"
    }
   ],
   "source": [
    "# Cholesky decomposition\n",
    "# L = linalg.cholesky(covarianceMatrix)\n",
    "L = np.linalg.cholesky(cov_matrix) \n",
    "L"
   ]
  },
  {
   "cell_type": "code",
   "execution_count": 10,
   "metadata": {},
   "outputs": [
    {
     "data": {
      "text/plain": [
       "100"
      ]
     },
     "execution_count": 10,
     "metadata": {},
     "output_type": "execute_result"
    }
   ],
   "source": [
    "#Use np.random’s standard_normal function to create an array of uncorrelated random numbers.\n",
    "uncorr_nums = np.random.standard_normal(100)\n",
    "uncorr_nums.size"
   ]
  },
  {
   "cell_type": "code",
   "execution_count": 11,
   "metadata": {},
   "outputs": [
    {
     "data": {
      "text/plain": [
       "array([[ 0.02945711, -0.59438279, -1.05018536,  0.31432908, -0.35632929,\n",
       "         1.09204734,  0.84208921, -0.88478498,  0.26648712, -0.35715624],\n",
       "       [ 0.90728694, -1.49917192, -0.01710536, -1.20243428, -0.85062306,\n",
       "         0.82408351,  1.31724519, -0.28640613, -1.36710172,  1.2049224 ],\n",
       "       [ 0.38961187,  0.14887588,  1.36210801,  0.63958691, -1.80452171,\n",
       "        -0.11868498, -1.40908927,  0.2324928 ,  1.32223226,  0.37439511],\n",
       "       [-0.22376471,  1.8257713 ,  0.80424643,  0.13060502,  1.07010856,\n",
       "         0.5219224 ,  0.54583841, -1.31443021,  0.89898484,  1.64018267],\n",
       "       [-1.51038752,  0.99820812, -0.42977474, -1.12344578, -1.74317657,\n",
       "         0.99486343,  1.8073703 ,  0.05399046, -0.40856184,  1.37661283],\n",
       "       [-1.00902408, -1.37988385,  0.15409926,  0.19411119,  0.12207408,\n",
       "         0.07039834,  0.73029419, -1.19980575,  1.64030177,  1.5687921 ],\n",
       "       [-1.78888253,  1.92890967, -0.12758623,  0.30150906, -1.05810712,\n",
       "         0.58383898,  1.51272967,  0.30904162,  2.75617373,  0.9446673 ],\n",
       "       [ 0.07693878, -0.90595589, -1.99415887,  0.24923156, -0.24557328,\n",
       "        -0.26406284,  0.29431776,  0.00676405,  0.69958035, -0.8251318 ],\n",
       "       [ 0.66744667, -0.30521477, -0.70990027,  1.41271237, -0.18649515,\n",
       "         0.96544652,  0.06963521,  0.8458267 , -1.10993065, -0.46231606],\n",
       "       [ 1.54819001, -1.93008357,  1.48327661,  0.51054852,  0.49092004,\n",
       "        -0.90626528, -0.13899929,  1.34964407,  0.14313786,  0.47020548]])"
      ]
     },
     "execution_count": 11,
     "metadata": {},
     "output_type": "execute_result"
    }
   ],
   "source": [
    "uncorr=np.resize(uncorr_nums,(10,10))\n",
    "uncorr"
   ]
  },
  {
   "cell_type": "code",
   "execution_count": 12,
   "metadata": {},
   "outputs": [
    {
     "data": {
      "text/plain": [
       "array([[ 3.51785245e-02, -7.09828958e-01, -1.25416144e+00,\n",
       "         3.75380789e-01, -4.25538647e-01,  1.30415421e+00,\n",
       "         1.00564706e+00, -1.05663557e+00,  3.18246551e-01,\n",
       "        -4.26526212e-01],\n",
       "       [ 4.54160870e-01, -2.30480286e-01,  9.91542833e-01,\n",
       "        -9.38598656e-01, -1.12594342e-01, -6.02516215e-01,\n",
       "        -1.02233667e-01,  6.90811681e-01, -9.80535695e-01,\n",
       "         9.80727551e-01],\n",
       "       [ 2.79063457e-01,  7.28521685e-02,  9.80616810e-01,\n",
       "        -2.72728628e-01, -4.48540966e-01, -5.03730879e-01,\n",
       "        -5.92861210e-01,  5.25471844e-01, -9.82901666e-02,\n",
       "         5.67691411e-01],\n",
       "       [ 1.00449315e+00,  3.32394543e+00,  6.54275434e+00,\n",
       "        -1.49879016e+00, -2.09372951e-01, -2.48844289e+00,\n",
       "        -2.52771563e+00,  1.31810891e+00,  3.90301652e-01,\n",
       "         5.36135836e+00],\n",
       "       [-5.33059474e-03, -5.99200346e-01, -1.07192459e+00,\n",
       "         2.77138942e-01, -3.77113825e-01,  1.07069333e+00,\n",
       "         8.59170361e-01, -8.33039852e-01,  2.16995761e-01,\n",
       "        -3.70846570e-01],\n",
       "       [-7.77240646e-01, -6.83268006e-01,  3.76587549e-01,\n",
       "        -3.12898793e-01,  1.86902472e-01,  2.66044534e-01,\n",
       "         1.08626437e+00, -1.11549293e+00,  9.37949604e-01,\n",
       "         2.01578408e+00],\n",
       "       [-7.01160824e-01,  2.14516962e+00,  3.33215369e+00,\n",
       "        -1.18158168e-01, -9.07948917e-01, -1.02576941e+00,\n",
       "        -9.21377826e-01,  4.30717168e-01,  2.40637691e+00,\n",
       "         3.22907619e+00],\n",
       "       [ 7.92081569e-01,  1.95641531e-01,  1.64354528e+00,\n",
       "        -1.09601245e+00, -6.99949568e-01, -7.78382738e-01,\n",
       "        -6.21689938e-01,  9.94305346e-01, -1.12422110e+00,\n",
       "         1.33117750e+00],\n",
       "       [-1.08870057e-03,  8.92226989e-01,  1.26407514e+00,\n",
       "        -2.94276309e-01,  4.58772111e-01, -1.28198716e+00,\n",
       "        -1.05927417e+00,  1.02778929e+00, -2.56790810e-01,\n",
       "         4.33120184e-01],\n",
       "       [-9.86197061e-02,  3.67066528e-01,  2.75781680e-01,\n",
       "        -1.87510102e-01,  2.80664756e-01, -1.23551108e-01,\n",
       "         1.09576099e-01,  1.03847875e-01, -1.57577183e-01,\n",
       "         3.73708213e-01]])"
      ]
     },
     "execution_count": 12,
     "metadata": {},
     "output_type": "execute_result"
    }
   ],
   "source": [
    "#corr = DotProduct(L, uncorr)\n",
    "corr=L.dot(uncorr)\n",
    "corr"
   ]
  }
 ],
 "metadata": {
  "kernelspec": {
   "display_name": "Python 3",
   "language": "python",
   "name": "python3"
  },
  "language_info": {
   "codemirror_mode": {
    "name": "ipython",
    "version": 3
   },
   "file_extension": ".py",
   "mimetype": "text/x-python",
   "name": "python",
   "nbconvert_exporter": "python",
   "pygments_lexer": "ipython3",
   "version": "3.8.5"
  }
 },
 "nbformat": 4,
 "nbformat_minor": 4
}
