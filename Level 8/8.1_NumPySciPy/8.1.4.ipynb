{
 "cells": [
  {
   "cell_type": "markdown",
   "metadata": {},
   "source": [
    "Student name: Jianwei Su\n",
    "\n",
    "Date: 06/01/2022\n",
    "\n",
    "8.1.4"
   ]
  },
  {
   "cell_type": "markdown",
   "metadata": {},
   "source": [
    "# Create two 5x5 matrices of numbers:\n",
    "# a. Multiply both matrices together.\n",
    "# b. Compute the eigenvalues of the matrices.\n",
    "# c. Calculate the correlation matrix for each of the two matrices."
   ]
  },
  {
   "cell_type": "code",
   "execution_count": 1,
   "metadata": {},
   "outputs": [],
   "source": [
    "import numpy as np\n",
    "\n",
    "# Set Seed:\n",
    "np.random.seed(2)\n",
    "arr1=np.random.randint(1,1000,25)\n",
    "arr2=np.random.randint(1,1000,25)"
   ]
  },
  {
   "cell_type": "code",
   "execution_count": 2,
   "metadata": {},
   "outputs": [
    {
     "name": "stdout",
     "output_type": "stream",
     "text": [
      "Length of array 1: 25\n",
      "Length of array 2: 25\n"
     ]
    }
   ],
   "source": [
    "print('Length of array 1:', len(arr1))\n",
    "print('Length of array 2:', len(arr2))"
   ]
  },
  {
   "cell_type": "markdown",
   "metadata": {},
   "source": [
    "# Create two 5x5 matrices of numbers"
   ]
  },
  {
   "cell_type": "code",
   "execution_count": 3,
   "metadata": {},
   "outputs": [
    {
     "data": {
      "text/plain": [
       "array([[169, 528, 494, 585, 535],\n",
       "       [300, 467,  76, 361, 264],\n",
       "       [675, 434, 608, 588, 726],\n",
       "       [ 48, 832, 288, 731, 405],\n",
       "       [125, 629, 806, 680, 196]])"
      ]
     },
     "execution_count": 3,
     "metadata": {},
     "output_type": "execute_result"
    }
   ],
   "source": [
    "mtr1=np.resize(arr1,(5,5))\n",
    "mtr1"
   ]
  },
  {
   "cell_type": "code",
   "execution_count": 4,
   "metadata": {},
   "outputs": [
    {
     "data": {
      "text/plain": [
       "array([[103, 773, 939, 876,  52],\n",
       "       [360, 551, 546, 571, 893],\n",
       "       [256, 324, 326,  89, 709],\n",
       "       [303, 455, 352, 212, 122],\n",
       "       [ 32, 451, 593, 565, 239]])"
      ]
     },
     "execution_count": 4,
     "metadata": {},
     "output_type": "execute_result"
    }
   ],
   "source": [
    "mtr2=np.resize(arr2,(5,5))\n",
    "mtr2"
   ]
  },
  {
   "cell_type": "markdown",
   "metadata": {},
   "source": [
    "# Multiply both matrices together"
   ]
  },
  {
   "cell_type": "code",
   "execution_count": 13,
   "metadata": {},
   "outputs": [
    {
     "data": {
      "text/plain": [
       "array([[ 528326, 1089081, 1131198,  919793, 1029773],\n",
       "       [ 336307,  797160,  845082,  761913,  593653],\n",
       "       [ 582809, 1552867, 1706491, 1428072, 1098984],\n",
       "       [ 612645, 1104108, 1090709,  926549, 1135641],\n",
       "       [ 657963, 1102144, 1079153,  795293, 1269455]])"
      ]
     },
     "execution_count": 13,
     "metadata": {},
     "output_type": "execute_result"
    }
   ],
   "source": [
    "np.matmul(mtr1, mtr2)"
   ]
  },
  {
   "cell_type": "code",
   "execution_count": 14,
   "metadata": {},
   "outputs": [
    {
     "data": {
      "text/plain": [
       "array([[ 931680, 1584441,  974742, 1567156, 1305863],\n",
       "       [ 733723, 1721130, 1435890, 1755200, 1140743],\n",
       "       [ 453411,  947969,  946382, 1005591,  634181],\n",
       "       [ 450733,  778359,  557666,  786418,  647549],\n",
       "       [ 597978, 1105286,  765982, 1105750,  842371]])"
      ]
     },
     "execution_count": 14,
     "metadata": {},
     "output_type": "execute_result"
    }
   ],
   "source": [
    "np.matmul(mtr2, mtr1)"
   ]
  },
  {
   "cell_type": "markdown",
   "metadata": {},
   "source": [
    "# Compute the eigenvalues of the matrices"
   ]
  },
  {
   "cell_type": "code",
   "execution_count": 7,
   "metadata": {},
   "outputs": [
    {
     "data": {
      "text/plain": [
       "(array([2239.73647352 +0.j        , -294.3677312 +73.97514568j,\n",
       "        -294.3677312 -73.97514568j,   28.36834695 +0.j        ,\n",
       "         491.63064192 +0.j        ]),\n",
       " array([[-0.44140864+0.j        , -0.37299496-0.15131754j,\n",
       "         -0.37299496+0.15131754j, -0.01188676+0.j        ,\n",
       "          0.19766963+0.j        ],\n",
       "        [-0.25131132+0.j        , -0.02689803+0.10564652j,\n",
       "         -0.02689803-0.10564652j, -0.53072669+0.j        ,\n",
       "         -0.24523282+0.j        ],\n",
       "        [-0.60210177+0.j        , -0.24946118+0.12606341j,\n",
       "         -0.24946118-0.12606341j, -0.23340595+0.j        ,\n",
       "          0.72384618+0.j        ],\n",
       "        [-0.3945551 +0.j        , -0.20887232-0.12911688j,\n",
       "         -0.20887232+0.12911688j,  0.80326669+0.j        ,\n",
       "         -0.54290917+0.j        ],\n",
       "        [-0.47307586+0.j        ,  0.82925954+0.j        ,\n",
       "          0.82925954-0.j        , -0.13591238+0.j        ,\n",
       "          0.28650292+0.j        ]]))"
      ]
     },
     "execution_count": 7,
     "metadata": {},
     "output_type": "execute_result"
    }
   ],
   "source": [
    "#mtr1's eigenvalue\n",
    "np.linalg.eig(mtr1)"
   ]
  },
  {
   "cell_type": "code",
   "execution_count": 8,
   "metadata": {},
   "outputs": [
    {
     "data": {
      "text/plain": [
       "(array([2082.27368434, -656.99124516, -158.67007947,   18.28777568,\n",
       "         146.09986461]),\n",
       " array([[ 0.54662836,  0.77109465,  0.46821649, -0.42799017, -0.26287459],\n",
       "        [ 0.58545978, -0.35515302, -0.74810737,  0.68877652, -0.35861817],\n",
       "        [ 0.35085666, -0.36214784,  0.05131917, -0.57712279,  0.73569201],\n",
       "        [ 0.32076249,  0.0097693 ,  0.46052992,  0.04722044, -0.49303841],\n",
       "        [ 0.36393037,  0.38475041,  0.07992008,  0.08432582,  0.13401623]]))"
      ]
     },
     "execution_count": 8,
     "metadata": {},
     "output_type": "execute_result"
    }
   ],
   "source": [
    "#mtr2's eigenvalue\n",
    "np.linalg.eig(mtr2)"
   ]
  },
  {
   "cell_type": "markdown",
   "metadata": {},
   "source": [
    "# Calculate the correlation matrix for each of the two matrices"
   ]
  },
  {
   "cell_type": "code",
   "execution_count": null,
   "metadata": {},
   "outputs": [],
   "source": [
    "np.corrcoef(mtr1, mtr2)"
   ]
  }
 ],
 "metadata": {
  "kernelspec": {
   "display_name": "Python 3",
   "language": "python",
   "name": "python3"
  },
  "language_info": {
   "codemirror_mode": {
    "name": "ipython",
    "version": 3
   },
   "file_extension": ".py",
   "mimetype": "text/x-python",
   "name": "python",
   "nbconvert_exporter": "python",
   "pygments_lexer": "ipython3",
   "version": "3.8.5"
  }
 },
 "nbformat": 4,
 "nbformat_minor": 4
}
