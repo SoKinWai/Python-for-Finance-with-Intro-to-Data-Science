{
 "cells": [
  {
   "cell_type": "markdown",
   "metadata": {},
   "source": [
    "\n",
    "Student name: Jianwei Su\n",
    "\n",
    "Date: 06/01/2022\n",
    "\n",
    "8.1.5"
   ]
  },
  {
   "cell_type": "markdown",
   "metadata": {},
   "source": [
    "# Solve the following system of linear equations (hint: use linalg.solve):\n",
    "# 7𝑥 − 3𝑦 + 4𝑧 = 15\n",
    "# −3𝑥 − 11𝑦 + 6𝑧 = 98\n",
    "# 2𝑥 + 𝑦 − 4𝑧 = −11\n"
   ]
  },
  {
   "cell_type": "code",
   "execution_count": 1,
   "metadata": {},
   "outputs": [],
   "source": [
    "import numpy as np"
   ]
  },
  {
   "cell_type": "code",
   "execution_count": 4,
   "metadata": {},
   "outputs": [],
   "source": [
    "#Creat 2 matrices\n",
    "mtr1=np.array([[7,-3,4],[-3,-11,6],[2,1,-4]])\n",
    "mtr2=np.array([15,98,-11])\n"
   ]
  },
  {
   "cell_type": "code",
   "execution_count": 5,
   "metadata": {},
   "outputs": [
    {
     "data": {
      "text/plain": [
       "array([[  7,  -3,   4],\n",
       "       [ -3, -11,   6],\n",
       "       [  2,   1,  -4]])"
      ]
     },
     "execution_count": 5,
     "metadata": {},
     "output_type": "execute_result"
    }
   ],
   "source": [
    "mtr1"
   ]
  },
  {
   "cell_type": "code",
   "execution_count": 6,
   "metadata": {},
   "outputs": [
    {
     "data": {
      "text/plain": [
       "array([ 15,  98, -11])"
      ]
     },
     "execution_count": 6,
     "metadata": {},
     "output_type": "execute_result"
    }
   ],
   "source": [
    "mtr2"
   ]
  },
  {
   "cell_type": "code",
   "execution_count": 10,
   "metadata": {},
   "outputs": [
    {
     "name": "stdout",
     "output_type": "stream",
     "text": [
      "x is -1.4619883040935677\n",
      "y is -8.578947368421055\n",
      "z is -0.1257309941520477\n"
     ]
    }
   ],
   "source": [
    "solution=np.linalg.solve(mtr1, mtr2)\n",
    "print(f'x is {solution[0]}')\n",
    "print(f'y is {solution[1]}')\n",
    "print(f'z is {solution[2]}')"
   ]
  },
  {
   "cell_type": "code",
   "execution_count": null,
   "metadata": {},
   "outputs": [],
   "source": []
  }
 ],
 "metadata": {
  "kernelspec": {
   "display_name": "Python 3",
   "language": "python",
   "name": "python3"
  },
  "language_info": {
   "codemirror_mode": {
    "name": "ipython",
    "version": 3
   },
   "file_extension": ".py",
   "mimetype": "text/x-python",
   "name": "python",
   "nbconvert_exporter": "python",
   "pygments_lexer": "ipython3",
   "version": "3.8.5"
  }
 },
 "nbformat": 4,
 "nbformat_minor": 4
}
