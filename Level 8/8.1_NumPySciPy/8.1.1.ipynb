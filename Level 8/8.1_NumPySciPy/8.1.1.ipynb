{
 "cells": [
  {
   "cell_type": "markdown",
   "metadata": {},
   "source": []
  },
  {
   "cell_type": "markdown",
   "metadata": {},
   "source": [
    "# Create a program that does the following:\n",
    "a. Create an ndarray containing 1,000,000 random numbers.\n",
    "\n",
    "b. Calculate the mean, median, mode, and standard deviation of the array. Compare the \n",
    "time spent running mean and standard deviation, vs. the previously implemented \n",
    "versions (from level 1). Is there a significant speedup? Why?\n",
    "\n",
    "c. Calculate the 10,20,30,…100 quantiles of the array"
   ]
  },
  {
   "cell_type": "code",
   "execution_count": 1,
   "metadata": {},
   "outputs": [],
   "source": [
    "import numpy as np\n",
    "\n",
    "# Set Seed:\n",
    "np.random.seed(0)"
   ]
  },
  {
   "cell_type": "code",
   "execution_count": 2,
   "metadata": {},
   "outputs": [
    {
     "data": {
      "text/plain": [
       "1000000"
      ]
     },
     "execution_count": 2,
     "metadata": {},
     "output_type": "execute_result"
    }
   ],
   "source": [
    "#Create an ndarray containing 1,000,000 random numbers.\n",
    "arr1=np.random.randint(1,1000,1000000)\n",
    "len(arr1)"
   ]
  },
  {
   "cell_type": "code",
   "execution_count": 3,
   "metadata": {},
   "outputs": [],
   "source": [
    "arr1.sort()"
   ]
  },
  {
   "cell_type": "code",
   "execution_count": 4,
   "metadata": {},
   "outputs": [],
   "source": [
    "from utils.timer import Timer\n",
    "import time "
   ]
  },
  {
   "cell_type": "markdown",
   "metadata": {},
   "source": [
    "Calculate the mean, median, mode, and standard deviation of the array. "
   ]
  },
  {
   "cell_type": "code",
   "execution_count": 5,
   "metadata": {},
   "outputs": [
    {
     "data": {
      "text/plain": [
       "500.0"
      ]
     },
     "execution_count": 5,
     "metadata": {},
     "output_type": "execute_result"
    }
   ],
   "source": [
    "#Calculate the median\n",
    "np.median(arr1)"
   ]
  },
  {
   "cell_type": "code",
   "execution_count": 6,
   "metadata": {},
   "outputs": [],
   "source": [
    "#freqMap() function\n",
    "#It returns the frequency of each number from input\n",
    "#I modified the function from the course video because this way is easier for me to understand\n",
    "def freqMap(values):\n",
    "    # return_counts=True: returns number of times element is repeated in the list.\n",
    "    a, b = np.unique(values, return_counts=True) # return_counts=True: returns number of times element is repeated in the list.\n",
    "    return a, b\n",
    "    "
   ]
  },
  {
   "cell_type": "code",
   "execution_count": 7,
   "metadata": {},
   "outputs": [],
   "source": [
    "# Mode() function\n",
    "# Create the mode function, building off the frequency function that was demonstrated in the lecture.\n",
    "# It returns most frequent numbers on screen\n",
    "def Mode(values):\n",
    "    \n",
    "    a, b = freqMap(values)\n",
    "\n",
    "    x = np.extract(b == max(b), a)\n",
    "    y = np.extract(b == max(b), b)\n",
    "    \n",
    "    res = list(zip(x, y))\n",
    "    return res"
   ]
  },
  {
   "cell_type": "code",
   "execution_count": 8,
   "metadata": {},
   "outputs": [
    {
     "data": {
      "text/plain": [
       "[(925, 1130)]"
      ]
     },
     "execution_count": 8,
     "metadata": {},
     "output_type": "execute_result"
    }
   ],
   "source": [
    "Mode(arr1)"
   ]
  },
  {
   "cell_type": "markdown",
   "metadata": {},
   "source": [
    "There are two ways to get array's mode via using scipy"
   ]
  },
  {
   "cell_type": "code",
   "execution_count": 9,
   "metadata": {},
   "outputs": [
    {
     "data": {
      "text/plain": [
       "ModeResult(mode=array([925]), count=array([1130]))"
      ]
     },
     "execution_count": 9,
     "metadata": {},
     "output_type": "execute_result"
    }
   ],
   "source": [
    "from scipy import stats\n",
    "stats.mode(arr1)"
   ]
  },
  {
   "cell_type": "code",
   "execution_count": 10,
   "metadata": {},
   "outputs": [
    {
     "data": {
      "text/plain": [
       "ModeResult(mode=array([925]), count=array([1130]))"
      ]
     },
     "execution_count": 10,
     "metadata": {},
     "output_type": "execute_result"
    }
   ],
   "source": [
    "import scipy.stats as spstats\n",
    "spstats.mode(arr1)"
   ]
  },
  {
   "cell_type": "markdown",
   "metadata": {},
   "source": [
    "Compare the \n",
    "time spent running mean and standard deviation, vs. the previously implemented \n",
    "versions (from level 1)"
   ]
  },
  {
   "cell_type": "code",
   "execution_count": 11,
   "metadata": {},
   "outputs": [
    {
     "name": "stdout",
     "output_type": "stream",
     "text": [
      "Mean of pervious version is  500.30472\n"
     ]
    }
   ],
   "source": [
    "# Mean() Function\n",
    "# This function takes in a list of ints and/or floats（List) as its input parameter and calculates the average of all\n",
    "# the entries of the input list. The function then returns the calculated average on screen\n",
    "def Mean(List):\n",
    "    #Calculate the average of List by taking the sum of all its elements and dividing it by the length of the List.\n",
    "    #Then return the resulting average\n",
    "    return (sum(List) / len(List))\n",
    "\n",
    "print('Mean of pervious version is ', Mean(list(arr1)))\n",
    "\n"
   ]
  },
  {
   "cell_type": "code",
   "execution_count": 12,
   "metadata": {},
   "outputs": [
    {
     "data": {
      "text/plain": [
       "500.30472"
      ]
     },
     "execution_count": 12,
     "metadata": {},
     "output_type": "execute_result"
    }
   ],
   "source": [
    "#Calculate the mean\n",
    "np.mean(arr1)"
   ]
  },
  {
   "cell_type": "code",
   "execution_count": 13,
   "metadata": {},
   "outputs": [],
   "source": [
    "# Standard deviation function\n",
    "# This function takes in a list of ints and/or floats(List) as its input paremeter and calculates the standard deviation of\n",
    "# all entries of the input List. The function then returns the calculated standard deviation on screen\n",
    "#def get_std(List):\n",
    "    # Calcualte the standard deviation of List by taking the sum of all its emememts minus the mean and dividing it by the length of the List.\n",
    "    # Then return the square root of it \n",
    "#    return math.sqrt(sum((i - Mean(List)) ** 2 for i in List) / len(List))\n",
    "\n",
    "\n",
    "\n",
    "\n",
    "# Return variance of a list\n",
    "def get_std(list):\n",
    "    mean_list = Mean(list) # Calculate mean\n",
    "    l_temp = [(i - mean_list)**2 for i in list] # Initialize list of (x - mean)**2\n",
    "    return (sum(l_temp) / len(list))**0.5"
   ]
  },
  {
   "cell_type": "code",
   "execution_count": 14,
   "metadata": {},
   "outputs": [
    {
     "name": "stdout",
     "output_type": "stream",
     "text": [
      "Standard Deviation of pervious version is  288.38633548718497\n"
     ]
    }
   ],
   "source": [
    "# Prints standard deviation\n",
    "print(\"Standard Deviation of pervious version is \",get_std(list(arr1)))"
   ]
  },
  {
   "cell_type": "code",
   "execution_count": 15,
   "metadata": {},
   "outputs": [
    {
     "data": {
      "text/plain": [
       "288.38633548717524"
      ]
     },
     "execution_count": 15,
     "metadata": {},
     "output_type": "execute_result"
    }
   ],
   "source": [
    "#Calculate the mean\n",
    "np.std(arr1)"
   ]
  },
  {
   "cell_type": "code",
   "execution_count": 16,
   "metadata": {},
   "outputs": [
    {
     "name": "stdout",
     "output_type": "stream",
     "text": [
      "Timer is going to start.\n",
      "Timer is going to stop.\n",
      "The timer is displaying in seconds:\n",
      "Numpy’s mean time taken : 0.0010008811950683594 seconds\n"
     ]
    }
   ],
   "source": [
    "with Timer('Numpy’s mean time taken'):\n",
    "    np.mean(arr1)"
   ]
  },
  {
   "cell_type": "code",
   "execution_count": 17,
   "metadata": {},
   "outputs": [
    {
     "name": "stdout",
     "output_type": "stream",
     "text": [
      "Timer is going to start.\n",
      "Timer is going to stop.\n",
      "The timer is displaying in seconds:\n",
      "Previous version’s mean time taken : 0.17403697967529297 seconds\n"
     ]
    }
   ],
   "source": [
    "with Timer('Previous version’s mean time taken'):\n",
    "    Mean(list(arr1))"
   ]
  },
  {
   "cell_type": "code",
   "execution_count": 18,
   "metadata": {},
   "outputs": [
    {
     "name": "stdout",
     "output_type": "stream",
     "text": [
      "Timer is going to start.\n",
      "Timer is going to stop.\n",
      "The timer is displaying in seconds:\n",
      "Numpy’s standard deviation time taken : 0.0070111751556396484 seconds\n"
     ]
    }
   ],
   "source": [
    "with Timer('Numpy’s standard deviation time taken'):\n",
    "    np.std(arr1)"
   ]
  },
  {
   "cell_type": "code",
   "execution_count": 19,
   "metadata": {},
   "outputs": [
    {
     "name": "stdout",
     "output_type": "stream",
     "text": [
      "Timer is going to start.\n",
      "Timer is going to stop.\n",
      "The timer is displaying in seconds:\n",
      "Previous version’s standard deviation time taken : 2.979395866394043 seconds\n"
     ]
    }
   ],
   "source": [
    "with Timer('Previous version’s standard deviation time taken'):\n",
    "    get_std(list(arr1))"
   ]
  },
  {
   "cell_type": "markdown",
   "metadata": {},
   "source": [
    "Is there a significant speedup? Why?\n",
    "\n",
    "Yes, there is a significant speedup. \n",
    "I think this is because numpy uses vectorized calculations for the math formulas which rely on C, \n",
    "which is much faster than native python formulas/using other packages.\n"
   ]
  },
  {
   "cell_type": "code",
   "execution_count": 20,
   "metadata": {},
   "outputs": [
    {
     "name": "stdout",
     "output_type": "stream",
     "text": [
      "10th quantile of the array is 100.0\n",
      "20th quantile of the array is 201.0\n",
      "30th quantile of the array is 301.0\n",
      "40th quantile of the array is 401.0\n",
      "50th quantile of the array is 500.0\n",
      "60th quantile of the array is 601.0\n",
      "70th quantile of the array is 700.0\n",
      "80th quantile of the array is 800.0\n",
      "90th quantile of the array is 900.0\n",
      "100th quantile of the array is 999.0\n"
     ]
    }
   ],
   "source": [
    "#Calculate the 10,20,30,…100 quantiles of the array\n",
    "\n",
    "b=10\n",
    "while b<=100:\n",
    "    print(f'{b}th quantile of the array is',np.percentile(arr1,b))\n",
    "    b=b+10"
   ]
  },
  {
   "cell_type": "code",
   "execution_count": 21,
   "metadata": {},
   "outputs": [
    {
     "name": "stdout",
     "output_type": "stream",
     "text": [
      "10th quantile of the array is 100.0\n",
      "20th quantile of the array is 201.0\n",
      "30th quantile of the array is 301.0\n",
      "40th quantile of the array is 401.0\n",
      "50th quantile of the array is 500.0\n",
      "60th quantile of the array is 601.0\n",
      "70th quantile of the array is 700.0\n",
      "80th quantile of the array is 800.0\n",
      "90th quantile of the array is 900.0\n",
      "100th quantile of the array is 999.0\n"
     ]
    }
   ],
   "source": [
    "# Another method:\n",
    "b=10\n",
    "while b<=100:\n",
    "    print(f'{b}th quantile of the array is',np.quantile(arr1,b/100))\n",
    "    b=b+10"
   ]
  }
 ],
 "metadata": {
  "kernelspec": {
   "display_name": "Python 3",
   "language": "python",
   "name": "python3"
  },
  "language_info": {
   "codemirror_mode": {
    "name": "ipython",
    "version": 3
   },
   "file_extension": ".py",
   "mimetype": "text/x-python",
   "name": "python",
   "nbconvert_exporter": "python",
   "pygments_lexer": "ipython3",
   "version": "3.8.5"
  }
 },
 "nbformat": 4,
 "nbformat_minor": 4
}
